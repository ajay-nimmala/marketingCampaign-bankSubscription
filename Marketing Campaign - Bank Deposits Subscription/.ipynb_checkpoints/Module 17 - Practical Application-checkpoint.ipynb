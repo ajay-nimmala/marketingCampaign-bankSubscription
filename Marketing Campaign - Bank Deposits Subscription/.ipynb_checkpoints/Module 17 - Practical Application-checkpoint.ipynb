{
 "cells": [
  {
   "cell_type": "markdown",
   "metadata": {},
   "source": [
    "# Practical Application III: Comparing Classifiers\n",
    "\n",
    "**Overview**: In this practical application, your goal is to compare the performance of the classifiers we encountered in this section, namely K Nearest Neighbor, Logistic Regression, Decision Trees, and Support Vector Machines.  We will utilize a dataset related to marketing bank products over the telephone.  \n",
    "\n"
   ]
  },
  {
   "cell_type": "markdown",
   "metadata": {},
   "source": [
    "### Getting Started\n",
    "\n",
    "Our dataset comes from the UCI Machine Learning repository [link](https://archive.ics.uci.edu/ml/datasets/bank+marketing).  The data is from a Portugese banking institution and is a collection of the results of multiple marketing campaigns.  We will make use of the article accompanying the dataset [here](CRISP-DM-BANK.pdf) for more information on the data and features.\n",
    "\n"
   ]
  },
  {
   "cell_type": "markdown",
   "metadata": {},
   "source": [
    "### Problem 1: Understanding the Data\n",
    "\n",
    "To gain a better understanding of the data, please read the information provided in the UCI link above, and examine the **Materials and Methods** section of the paper.  How many marketing campaigns does this data represent?"
   ]
  },
  {
   "cell_type": "markdown",
   "metadata": {},
   "source": [
    "17"
   ]
  },
  {
   "cell_type": "markdown",
   "metadata": {},
   "source": [
    "### Problem 2: Read in the Data\n",
    "\n",
    "Use pandas to read in the dataset `bank-additional-full.csv` and assign to a meaningful variable name."
   ]
  },
  {
   "cell_type": "code",
   "execution_count": 123,
   "metadata": {
    "tags": []
   },
   "outputs": [],
   "source": [
    "import pandas as pd"
   ]
  },
  {
   "cell_type": "code",
   "execution_count": 124,
   "metadata": {
    "tags": []
   },
   "outputs": [],
   "source": [
    "bank_data = pd.read_csv('data/bank-additional-full.csv', sep = ';')"
   ]
  },
  {
   "cell_type": "code",
   "execution_count": 125,
   "metadata": {
    "tags": []
   },
   "outputs": [
    {
     "data": {
      "text/html": [
       "<div>\n",
       "<style scoped>\n",
       "    .dataframe tbody tr th:only-of-type {\n",
       "        vertical-align: middle;\n",
       "    }\n",
       "\n",
       "    .dataframe tbody tr th {\n",
       "        vertical-align: top;\n",
       "    }\n",
       "\n",
       "    .dataframe thead th {\n",
       "        text-align: right;\n",
       "    }\n",
       "</style>\n",
       "<table border=\"1\" class=\"dataframe\">\n",
       "  <thead>\n",
       "    <tr style=\"text-align: right;\">\n",
       "      <th></th>\n",
       "      <th>age</th>\n",
       "      <th>job</th>\n",
       "      <th>marital</th>\n",
       "      <th>education</th>\n",
       "      <th>default</th>\n",
       "      <th>housing</th>\n",
       "      <th>loan</th>\n",
       "      <th>contact</th>\n",
       "      <th>month</th>\n",
       "      <th>day_of_week</th>\n",
       "      <th>...</th>\n",
       "      <th>campaign</th>\n",
       "      <th>pdays</th>\n",
       "      <th>previous</th>\n",
       "      <th>poutcome</th>\n",
       "      <th>emp.var.rate</th>\n",
       "      <th>cons.price.idx</th>\n",
       "      <th>cons.conf.idx</th>\n",
       "      <th>euribor3m</th>\n",
       "      <th>nr.employed</th>\n",
       "      <th>y</th>\n",
       "    </tr>\n",
       "  </thead>\n",
       "  <tbody>\n",
       "    <tr>\n",
       "      <th>0</th>\n",
       "      <td>56</td>\n",
       "      <td>housemaid</td>\n",
       "      <td>married</td>\n",
       "      <td>basic.4y</td>\n",
       "      <td>no</td>\n",
       "      <td>no</td>\n",
       "      <td>no</td>\n",
       "      <td>telephone</td>\n",
       "      <td>may</td>\n",
       "      <td>mon</td>\n",
       "      <td>...</td>\n",
       "      <td>1</td>\n",
       "      <td>999</td>\n",
       "      <td>0</td>\n",
       "      <td>nonexistent</td>\n",
       "      <td>1.1</td>\n",
       "      <td>93.994</td>\n",
       "      <td>-36.4</td>\n",
       "      <td>4.857</td>\n",
       "      <td>5191.0</td>\n",
       "      <td>no</td>\n",
       "    </tr>\n",
       "    <tr>\n",
       "      <th>1</th>\n",
       "      <td>57</td>\n",
       "      <td>services</td>\n",
       "      <td>married</td>\n",
       "      <td>high.school</td>\n",
       "      <td>unknown</td>\n",
       "      <td>no</td>\n",
       "      <td>no</td>\n",
       "      <td>telephone</td>\n",
       "      <td>may</td>\n",
       "      <td>mon</td>\n",
       "      <td>...</td>\n",
       "      <td>1</td>\n",
       "      <td>999</td>\n",
       "      <td>0</td>\n",
       "      <td>nonexistent</td>\n",
       "      <td>1.1</td>\n",
       "      <td>93.994</td>\n",
       "      <td>-36.4</td>\n",
       "      <td>4.857</td>\n",
       "      <td>5191.0</td>\n",
       "      <td>no</td>\n",
       "    </tr>\n",
       "    <tr>\n",
       "      <th>2</th>\n",
       "      <td>37</td>\n",
       "      <td>services</td>\n",
       "      <td>married</td>\n",
       "      <td>high.school</td>\n",
       "      <td>no</td>\n",
       "      <td>yes</td>\n",
       "      <td>no</td>\n",
       "      <td>telephone</td>\n",
       "      <td>may</td>\n",
       "      <td>mon</td>\n",
       "      <td>...</td>\n",
       "      <td>1</td>\n",
       "      <td>999</td>\n",
       "      <td>0</td>\n",
       "      <td>nonexistent</td>\n",
       "      <td>1.1</td>\n",
       "      <td>93.994</td>\n",
       "      <td>-36.4</td>\n",
       "      <td>4.857</td>\n",
       "      <td>5191.0</td>\n",
       "      <td>no</td>\n",
       "    </tr>\n",
       "    <tr>\n",
       "      <th>3</th>\n",
       "      <td>40</td>\n",
       "      <td>admin.</td>\n",
       "      <td>married</td>\n",
       "      <td>basic.6y</td>\n",
       "      <td>no</td>\n",
       "      <td>no</td>\n",
       "      <td>no</td>\n",
       "      <td>telephone</td>\n",
       "      <td>may</td>\n",
       "      <td>mon</td>\n",
       "      <td>...</td>\n",
       "      <td>1</td>\n",
       "      <td>999</td>\n",
       "      <td>0</td>\n",
       "      <td>nonexistent</td>\n",
       "      <td>1.1</td>\n",
       "      <td>93.994</td>\n",
       "      <td>-36.4</td>\n",
       "      <td>4.857</td>\n",
       "      <td>5191.0</td>\n",
       "      <td>no</td>\n",
       "    </tr>\n",
       "    <tr>\n",
       "      <th>4</th>\n",
       "      <td>56</td>\n",
       "      <td>services</td>\n",
       "      <td>married</td>\n",
       "      <td>high.school</td>\n",
       "      <td>no</td>\n",
       "      <td>no</td>\n",
       "      <td>yes</td>\n",
       "      <td>telephone</td>\n",
       "      <td>may</td>\n",
       "      <td>mon</td>\n",
       "      <td>...</td>\n",
       "      <td>1</td>\n",
       "      <td>999</td>\n",
       "      <td>0</td>\n",
       "      <td>nonexistent</td>\n",
       "      <td>1.1</td>\n",
       "      <td>93.994</td>\n",
       "      <td>-36.4</td>\n",
       "      <td>4.857</td>\n",
       "      <td>5191.0</td>\n",
       "      <td>no</td>\n",
       "    </tr>\n",
       "  </tbody>\n",
       "</table>\n",
       "<p>5 rows × 21 columns</p>\n",
       "</div>"
      ],
      "text/plain": [
       "   age        job  marital    education  default housing loan    contact  \\\n",
       "0   56  housemaid  married     basic.4y       no      no   no  telephone   \n",
       "1   57   services  married  high.school  unknown      no   no  telephone   \n",
       "2   37   services  married  high.school       no     yes   no  telephone   \n",
       "3   40     admin.  married     basic.6y       no      no   no  telephone   \n",
       "4   56   services  married  high.school       no      no  yes  telephone   \n",
       "\n",
       "  month day_of_week  ...  campaign  pdays  previous     poutcome emp.var.rate  \\\n",
       "0   may         mon  ...         1    999         0  nonexistent          1.1   \n",
       "1   may         mon  ...         1    999         0  nonexistent          1.1   \n",
       "2   may         mon  ...         1    999         0  nonexistent          1.1   \n",
       "3   may         mon  ...         1    999         0  nonexistent          1.1   \n",
       "4   may         mon  ...         1    999         0  nonexistent          1.1   \n",
       "\n",
       "   cons.price.idx  cons.conf.idx  euribor3m  nr.employed   y  \n",
       "0          93.994          -36.4      4.857       5191.0  no  \n",
       "1          93.994          -36.4      4.857       5191.0  no  \n",
       "2          93.994          -36.4      4.857       5191.0  no  \n",
       "3          93.994          -36.4      4.857       5191.0  no  \n",
       "4          93.994          -36.4      4.857       5191.0  no  \n",
       "\n",
       "[5 rows x 21 columns]"
      ]
     },
     "execution_count": 125,
     "metadata": {},
     "output_type": "execute_result"
    }
   ],
   "source": [
    "bank_data.head()"
   ]
  },
  {
   "cell_type": "code",
   "execution_count": 126,
   "metadata": {
    "tags": []
   },
   "outputs": [
    {
     "name": "stdout",
     "output_type": "stream",
     "text": [
      "<class 'pandas.core.frame.DataFrame'>\n",
      "RangeIndex: 41188 entries, 0 to 41187\n",
      "Data columns (total 21 columns):\n",
      " #   Column          Non-Null Count  Dtype  \n",
      "---  ------          --------------  -----  \n",
      " 0   age             41188 non-null  int64  \n",
      " 1   job             41188 non-null  object \n",
      " 2   marital         41188 non-null  object \n",
      " 3   education       41188 non-null  object \n",
      " 4   default         41188 non-null  object \n",
      " 5   housing         41188 non-null  object \n",
      " 6   loan            41188 non-null  object \n",
      " 7   contact         41188 non-null  object \n",
      " 8   month           41188 non-null  object \n",
      " 9   day_of_week     41188 non-null  object \n",
      " 10  duration        41188 non-null  int64  \n",
      " 11  campaign        41188 non-null  int64  \n",
      " 12  pdays           41188 non-null  int64  \n",
      " 13  previous        41188 non-null  int64  \n",
      " 14  poutcome        41188 non-null  object \n",
      " 15  emp.var.rate    41188 non-null  float64\n",
      " 16  cons.price.idx  41188 non-null  float64\n",
      " 17  cons.conf.idx   41188 non-null  float64\n",
      " 18  euribor3m       41188 non-null  float64\n",
      " 19  nr.employed     41188 non-null  float64\n",
      " 20  y               41188 non-null  object \n",
      "dtypes: float64(5), int64(5), object(11)\n",
      "memory usage: 6.6+ MB\n"
     ]
    }
   ],
   "source": [
    "bank_data.info()"
   ]
  },
  {
   "cell_type": "markdown",
   "metadata": {},
   "source": [
    "### Problem 3: Understanding the Features\n",
    "\n",
    "\n",
    "Examine the data description below, and determine if any of the features are missing values or need to be coerced to a different data type.\n",
    "\n",
    "\n",
    "```\n",
    "Input variables:\n",
    "# bank client data:\n",
    "1 - age (numeric)\n",
    "2 - job : type of job (categorical: 'admin.','blue-collar','entrepreneur','housemaid','management','retired','self-employed','services','student','technician','unemployed','unknown')\n",
    "3 - marital : marital status (categorical: 'divorced','married','single','unknown'; note: 'divorced' means divorced or widowed)\n",
    "4 - education (categorical: 'basic.4y','basic.6y','basic.9y','high.school','illiterate','professional.course','university.degree','unknown')\n",
    "5 - default: has credit in default? (categorical: 'no','yes','unknown')\n",
    "6 - housing: has housing loan? (categorical: 'no','yes','unknown')\n",
    "7 - loan: has personal loan? (categorical: 'no','yes','unknown')\n",
    "# related with the last contact of the current campaign:\n",
    "8 - contact: contact communication type (categorical: 'cellular','telephone')\n",
    "9 - month: last contact month of year (categorical: 'jan', 'feb', 'mar', ..., 'nov', 'dec')\n",
    "10 - day_of_week: last contact day of the week (categorical: 'mon','tue','wed','thu','fri')\n",
    "11 - duration: last contact duration, in seconds (numeric). Important note: this attribute highly affects the output target (e.g., if duration=0 then y='no'). Yet, the duration is not known before a call is performed. Also, after the end of the call y is obviously known. Thus, this input should only be included for benchmark purposes and should be discarded if the intention is to have a realistic predictive model.\n",
    "# other attributes:\n",
    "12 - campaign: number of contacts performed during this campaign and for this client (numeric, includes last contact)\n",
    "13 - pdays: number of days that passed by after the client was last contacted from a previous campaign (numeric; 999 means client was not previously contacted)\n",
    "14 - previous: number of contacts performed before this campaign and for this client (numeric)\n",
    "15 - poutcome: outcome of the previous marketing campaign (categorical: 'failure','nonexistent','success')\n",
    "# social and economic context attributes\n",
    "16 - emp.var.rate: employment variation rate - quarterly indicator (numeric)\n",
    "17 - cons.price.idx: consumer price index - monthly indicator (numeric)\n",
    "18 - cons.conf.idx: consumer confidence index - monthly indicator (numeric)\n",
    "19 - euribor3m: euribor 3 month rate - daily indicator (numeric)\n",
    "20 - nr.employed: number of employees - quarterly indicator (numeric)\n",
    "\n",
    "Output variable (desired target):\n",
    "21 - y - has the client subscribed a term deposit? (binary: 'yes','no')\n",
    "```\n",
    "\n"
   ]
  },
  {
   "cell_type": "markdown",
   "metadata": {},
   "source": [
    "No missing values are present, and the correct data types are assigned."
   ]
  },
  {
   "cell_type": "markdown",
   "metadata": {},
   "source": [
    "### Problem 4: Understanding the Task\n",
    "\n",
    "After examining the description and data, your goal now is to clearly state the *Business Objective* of the task.  State the objective below."
   ]
  },
  {
   "cell_type": "code",
   "execution_count": 128,
   "metadata": {},
   "outputs": [
    {
     "name": "stdout",
     "output_type": "stream",
     "text": [
      "<class 'pandas.core.frame.DataFrame'>\n",
      "RangeIndex: 41188 entries, 0 to 41187\n",
      "Data columns (total 21 columns):\n",
      " #   Column          Non-Null Count  Dtype  \n",
      "---  ------          --------------  -----  \n",
      " 0   age             41188 non-null  int64  \n",
      " 1   job             41188 non-null  object \n",
      " 2   marital         41188 non-null  object \n",
      " 3   education       41188 non-null  object \n",
      " 4   default         41188 non-null  object \n",
      " 5   housing         41188 non-null  object \n",
      " 6   loan            41188 non-null  object \n",
      " 7   contact         41188 non-null  object \n",
      " 8   month           41188 non-null  object \n",
      " 9   day_of_week     41188 non-null  object \n",
      " 10  duration        41188 non-null  int64  \n",
      " 11  campaign        41188 non-null  int64  \n",
      " 12  pdays           41188 non-null  int64  \n",
      " 13  previous        41188 non-null  int64  \n",
      " 14  poutcome        41188 non-null  object \n",
      " 15  emp.var.rate    41188 non-null  float64\n",
      " 16  cons.price.idx  41188 non-null  float64\n",
      " 17  cons.conf.idx   41188 non-null  float64\n",
      " 18  euribor3m       41188 non-null  float64\n",
      " 19  nr.employed     41188 non-null  float64\n",
      " 20  y               41188 non-null  object \n",
      "dtypes: float64(5), int64(5), object(11)\n",
      "memory usage: 6.6+ MB\n"
     ]
    }
   ],
   "source": [
    "df.info()"
   ]
  },
  {
   "cell_type": "raw",
   "metadata": {},
   "source": [
    "The business aim is to develop a model that explains the success of client contacts, focusing on term deposit subscriptions, with the goal of improving campaign efficiency through identifying key success factors and optimizing resource management for a high-quality and cost-effective customer selection.\n",
    "\n",
    "To achieve this objective,we can formulate a predictive modeling task where the target variable (y) is binary ('yes' or 'no') indicating whether the client subscribed to a term deposit. The input features, as listed in the data columns, will be used to train the model.\n"
   ]
  },
  {
   "cell_type": "markdown",
   "metadata": {},
   "source": [
    "### Problem 5: Engineering Features\n",
    "\n",
    "Now that you understand your business objective, we will build a basic model to get started.  Before we can do this, we must work to encode the data.  Using just the bank information features (columns 1 - 7), prepare the features and target column for modeling with appropriate encoding and transformations."
   ]
  },
  {
   "cell_type": "code",
   "execution_count": 129,
   "metadata": {},
   "outputs": [
    {
     "data": {
      "text/plain": [
       "Index(['age', 'job', 'marital', 'education', 'default', 'housing', 'loan',\n",
       "       'contact', 'month', 'day_of_week', 'duration', 'campaign', 'pdays',\n",
       "       'previous', 'poutcome', 'emp.var.rate', 'cons.price.idx',\n",
       "       'cons.conf.idx', 'euribor3m', 'nr.employed', 'y'],\n",
       "      dtype='object')"
      ]
     },
     "execution_count": 129,
     "metadata": {},
     "output_type": "execute_result"
    }
   ],
   "source": [
    "bank_data.columns\n"
   ]
  },
  {
   "cell_type": "code",
   "execution_count": 130,
   "metadata": {},
   "outputs": [
    {
     "data": {
      "text/plain": [
       "Index(['age', 'job', 'marital', 'education', 'default', 'housing', 'loan'], dtype='object')"
      ]
     },
     "execution_count": 130,
     "metadata": {},
     "output_type": "execute_result"
    }
   ],
   "source": [
    "bank_data.columns[:7]"
   ]
  },
  {
   "cell_type": "code",
   "execution_count": 131,
   "metadata": {},
   "outputs": [
    {
     "data": {
      "text/html": [
       "<div>\n",
       "<style scoped>\n",
       "    .dataframe tbody tr th:only-of-type {\n",
       "        vertical-align: middle;\n",
       "    }\n",
       "\n",
       "    .dataframe tbody tr th {\n",
       "        vertical-align: top;\n",
       "    }\n",
       "\n",
       "    .dataframe thead th {\n",
       "        text-align: right;\n",
       "    }\n",
       "</style>\n",
       "<table border=\"1\" class=\"dataframe\">\n",
       "  <thead>\n",
       "    <tr style=\"text-align: right;\">\n",
       "      <th></th>\n",
       "      <th>age</th>\n",
       "      <th>job</th>\n",
       "      <th>marital</th>\n",
       "      <th>education</th>\n",
       "      <th>default</th>\n",
       "      <th>housing</th>\n",
       "      <th>loan</th>\n",
       "    </tr>\n",
       "  </thead>\n",
       "  <tbody>\n",
       "    <tr>\n",
       "      <th>0</th>\n",
       "      <td>56</td>\n",
       "      <td>housemaid</td>\n",
       "      <td>married</td>\n",
       "      <td>basic.4y</td>\n",
       "      <td>no</td>\n",
       "      <td>no</td>\n",
       "      <td>no</td>\n",
       "    </tr>\n",
       "    <tr>\n",
       "      <th>1</th>\n",
       "      <td>57</td>\n",
       "      <td>services</td>\n",
       "      <td>married</td>\n",
       "      <td>high.school</td>\n",
       "      <td>unknown</td>\n",
       "      <td>no</td>\n",
       "      <td>no</td>\n",
       "    </tr>\n",
       "    <tr>\n",
       "      <th>2</th>\n",
       "      <td>37</td>\n",
       "      <td>services</td>\n",
       "      <td>married</td>\n",
       "      <td>high.school</td>\n",
       "      <td>no</td>\n",
       "      <td>yes</td>\n",
       "      <td>no</td>\n",
       "    </tr>\n",
       "    <tr>\n",
       "      <th>3</th>\n",
       "      <td>40</td>\n",
       "      <td>admin.</td>\n",
       "      <td>married</td>\n",
       "      <td>basic.6y</td>\n",
       "      <td>no</td>\n",
       "      <td>no</td>\n",
       "      <td>no</td>\n",
       "    </tr>\n",
       "    <tr>\n",
       "      <th>4</th>\n",
       "      <td>56</td>\n",
       "      <td>services</td>\n",
       "      <td>married</td>\n",
       "      <td>high.school</td>\n",
       "      <td>no</td>\n",
       "      <td>no</td>\n",
       "      <td>yes</td>\n",
       "    </tr>\n",
       "  </tbody>\n",
       "</table>\n",
       "</div>"
      ],
      "text/plain": [
       "   age        job  marital    education  default housing loan\n",
       "0   56  housemaid  married     basic.4y       no      no   no\n",
       "1   57   services  married  high.school  unknown      no   no\n",
       "2   37   services  married  high.school       no     yes   no\n",
       "3   40     admin.  married     basic.6y       no      no   no\n",
       "4   56   services  married  high.school       no      no  yes"
      ]
     },
     "execution_count": 131,
     "metadata": {},
     "output_type": "execute_result"
    }
   ],
   "source": [
    "bank_data[list(bank_data.columns)[:7]].head()"
   ]
  },
  {
   "cell_type": "code",
   "execution_count": 132,
   "metadata": {},
   "outputs": [
    {
     "name": "stdout",
     "output_type": "stream",
     "text": [
      "       age          job   marital            education  default housing loan  \\\n",
      "1266    39  blue-collar   married             basic.6y       no      no   no   \n",
      "12261   36      retired   married              unknown       no      no   no   \n",
      "14234   27   technician    single  professional.course       no      no   no   \n",
      "16956   47   technician  divorced          high.school       no     yes   no   \n",
      "18465   32   technician    single  professional.course       no     yes   no   \n",
      "20216   55     services   married          high.school  unknown      no   no   \n",
      "20534   41   technician   married  professional.course       no     yes   no   \n",
      "25217   39       admin.   married    university.degree       no      no   no   \n",
      "28477   24     services    single          high.school       no     yes   no   \n",
      "32516   35       admin.   married    university.degree       no     yes   no   \n",
      "36951   45       admin.   married    university.degree       no      no   no   \n",
      "38281   71      retired    single    university.degree       no      no   no   \n",
      "\n",
      "         contact month day_of_week  ...  campaign  pdays  previous  \\\n",
      "1266   telephone   may         thu  ...         1    999         0   \n",
      "12261  telephone   jul         thu  ...         1    999         0   \n",
      "14234   cellular   jul         mon  ...         2    999         0   \n",
      "16956   cellular   jul         thu  ...         3    999         0   \n",
      "18465   cellular   jul         thu  ...         1    999         0   \n",
      "20216   cellular   aug         mon  ...         1    999         0   \n",
      "20534   cellular   aug         tue  ...         1    999         0   \n",
      "25217   cellular   nov         tue  ...         2    999         0   \n",
      "28477   cellular   apr         tue  ...         1    999         0   \n",
      "32516   cellular   may         fri  ...         4    999         0   \n",
      "36951   cellular   jul         thu  ...         1    999         0   \n",
      "38281  telephone   oct         tue  ...         1    999         0   \n",
      "\n",
      "          poutcome emp.var.rate  cons.price.idx  cons.conf.idx  euribor3m  \\\n",
      "1266   nonexistent          1.1          93.994          -36.4      4.855   \n",
      "12261  nonexistent          1.4          93.918          -42.7      4.966   \n",
      "14234  nonexistent          1.4          93.918          -42.7      4.962   \n",
      "16956  nonexistent          1.4          93.918          -42.7      4.962   \n",
      "18465  nonexistent          1.4          93.918          -42.7      4.968   \n",
      "20216  nonexistent          1.4          93.444          -36.1      4.965   \n",
      "20534  nonexistent          1.4          93.444          -36.1      4.966   \n",
      "25217  nonexistent         -0.1          93.200          -42.0      4.153   \n",
      "28477  nonexistent         -1.8          93.075          -47.1      1.423   \n",
      "32516  nonexistent         -1.8          92.893          -46.2      1.313   \n",
      "36951  nonexistent         -2.9          92.469          -33.6      1.072   \n",
      "38281  nonexistent         -3.4          92.431          -26.9      0.742   \n",
      "\n",
      "       nr.employed    y  \n",
      "1266        5191.0   no  \n",
      "12261       5228.1   no  \n",
      "14234       5228.1   no  \n",
      "16956       5228.1   no  \n",
      "18465       5228.1   no  \n",
      "20216       5228.1   no  \n",
      "20534       5228.1   no  \n",
      "25217       5195.8   no  \n",
      "28477       5099.1   no  \n",
      "32516       5099.1   no  \n",
      "36951       5076.2  yes  \n",
      "38281       5017.5   no  \n",
      "\n",
      "[12 rows x 21 columns]\n"
     ]
    }
   ],
   "source": [
    "print(bank_data[bank_data.duplicated()])"
   ]
  },
  {
   "cell_type": "code",
   "execution_count": 133,
   "metadata": {},
   "outputs": [
    {
     "data": {
      "text/plain": [
       "12"
      ]
     },
     "execution_count": 133,
     "metadata": {},
     "output_type": "execute_result"
    }
   ],
   "source": [
    "bank_data.duplicated().sum()\n"
   ]
  },
  {
   "cell_type": "code",
   "execution_count": 134,
   "metadata": {},
   "outputs": [],
   "source": [
    "bank_data.drop_duplicates(inplace=True)\n"
   ]
  },
  {
   "cell_type": "code",
   "execution_count": 135,
   "metadata": {},
   "outputs": [],
   "source": [
    "#Converting 'y' into numerical values for improved data manipulation.\n",
    "\n",
    "y_categories={'yes':1,'no': 0} \n",
    "\n",
    "bank_data['y_category']=bank_data['y'].map(y_categories)"
   ]
  },
  {
   "cell_type": "code",
   "execution_count": 136,
   "metadata": {},
   "outputs": [
    {
     "name": "stdout",
     "output_type": "stream",
     "text": [
      "       age          job  marital            education  default housing loan  \\\n",
      "0       56    housemaid  married             basic.4y       no      no   no   \n",
      "1       57     services  married          high.school  unknown      no   no   \n",
      "2       37     services  married          high.school       no     yes   no   \n",
      "3       40       admin.  married             basic.6y       no      no   no   \n",
      "4       56     services  married          high.school       no      no  yes   \n",
      "...    ...          ...      ...                  ...      ...     ...  ...   \n",
      "41183   73      retired  married  professional.course       no     yes   no   \n",
      "41184   46  blue-collar  married  professional.course       no      no   no   \n",
      "41185   56      retired  married    university.degree       no     yes   no   \n",
      "41186   44   technician  married  professional.course       no      no   no   \n",
      "41187   74      retired  married  professional.course       no     yes   no   \n",
      "\n",
      "         contact month day_of_week  ...  pdays  previous     poutcome  \\\n",
      "0      telephone   may         mon  ...    999         0  nonexistent   \n",
      "1      telephone   may         mon  ...    999         0  nonexistent   \n",
      "2      telephone   may         mon  ...    999         0  nonexistent   \n",
      "3      telephone   may         mon  ...    999         0  nonexistent   \n",
      "4      telephone   may         mon  ...    999         0  nonexistent   \n",
      "...          ...   ...         ...  ...    ...       ...          ...   \n",
      "41183   cellular   nov         fri  ...    999         0  nonexistent   \n",
      "41184   cellular   nov         fri  ...    999         0  nonexistent   \n",
      "41185   cellular   nov         fri  ...    999         0  nonexistent   \n",
      "41186   cellular   nov         fri  ...    999         0  nonexistent   \n",
      "41187   cellular   nov         fri  ...    999         1      failure   \n",
      "\n",
      "       emp.var.rate cons.price.idx  cons.conf.idx  euribor3m  nr.employed  \\\n",
      "0               1.1         93.994          -36.4      4.857       5191.0   \n",
      "1               1.1         93.994          -36.4      4.857       5191.0   \n",
      "2               1.1         93.994          -36.4      4.857       5191.0   \n",
      "3               1.1         93.994          -36.4      4.857       5191.0   \n",
      "4               1.1         93.994          -36.4      4.857       5191.0   \n",
      "...             ...            ...            ...        ...          ...   \n",
      "41183          -1.1         94.767          -50.8      1.028       4963.6   \n",
      "41184          -1.1         94.767          -50.8      1.028       4963.6   \n",
      "41185          -1.1         94.767          -50.8      1.028       4963.6   \n",
      "41186          -1.1         94.767          -50.8      1.028       4963.6   \n",
      "41187          -1.1         94.767          -50.8      1.028       4963.6   \n",
      "\n",
      "         y  y_category  \n",
      "0       no           0  \n",
      "1       no           0  \n",
      "2       no           0  \n",
      "3       no           0  \n",
      "4       no           0  \n",
      "...    ...         ...  \n",
      "41183  yes           1  \n",
      "41184   no           0  \n",
      "41185   no           0  \n",
      "41186  yes           1  \n",
      "41187   no           0  \n",
      "\n",
      "[41176 rows x 22 columns]\n"
     ]
    }
   ],
   "source": [
    "print(bank_data)"
   ]
  },
  {
   "cell_type": "markdown",
   "metadata": {},
   "source": [
    "### Problem 6: Train/Test Split\n",
    "\n",
    "With your data prepared, split it into a train and test set."
   ]
  },
  {
   "cell_type": "code",
   "execution_count": 137,
   "metadata": {},
   "outputs": [],
   "source": [
    "bd= bank_data[['age', 'job', 'marital', 'education', 'default', 'housing', 'loan']]"
   ]
  },
  {
   "cell_type": "code",
   "execution_count": 138,
   "metadata": {},
   "outputs": [],
   "source": [
    "bd_copy=bd.copy(deep=True)"
   ]
  },
  {
   "cell_type": "code",
   "execution_count": 139,
   "metadata": {},
   "outputs": [],
   "source": [
    "from sklearn.model_selection import train_test_split"
   ]
  },
  {
   "cell_type": "code",
   "execution_count": 140,
   "metadata": {},
   "outputs": [],
   "source": [
    "x_axis = bd\n",
    "y_axis = bank_data['y_category']"
   ]
  },
  {
   "cell_type": "code",
   "execution_count": 141,
   "metadata": {},
   "outputs": [],
   "source": [
    "X_train, X_test, y_train, y_test = train_test_split(x_axis,y_axis, test_size=0.3, random_state=101,stratify=y_axis)"
   ]
  },
  {
   "cell_type": "markdown",
   "metadata": {},
   "source": [
    "### Problem 7: A Baseline Model\n",
    "\n",
    "Before we build our first model, we want to establish a baseline.  What is the baseline performance that our classifier should aim to beat?"
   ]
  },
  {
   "cell_type": "markdown",
   "metadata": {},
   "source": [
    "Naive Bayes classification Algorithm"
   ]
  },
  {
   "cell_type": "code",
   "execution_count": 143,
   "metadata": {},
   "outputs": [],
   "source": [
    "from sklearn.feature_extraction.text import CountVectorizer\n",
    "from sklearn.naive_bayes import MultinomialNB\n",
    "from sklearn.metrics import accuracy_score, classification_report\n",
    "from sklearn.pipeline import Pipeline\n",
    "from sklearn.preprocessing import MinMaxScaler \n",
    "from sklearn.preprocessing import StandardScaler, OneHotEncoder\n",
    "from sklearn.compose import ColumnTransformer\n",
    "import time"
   ]
  },
  {
   "cell_type": "code",
   "execution_count": 144,
   "metadata": {},
   "outputs": [],
   "source": [
    "categorical_features = ['job', 'marital', 'education', 'default', 'housing', 'loan']\n",
    "numerical_features = ['age']\n",
    "\n",
    "#MinMaxScaler to scale numerical features to a specific range (default is [0, 1]).\n",
    "\n",
    "numeric_transformer = Pipeline(\n",
    "    steps=[\n",
    "        (\"scaler\", MinMaxScaler())]\n",
    ")\n",
    "\n",
    "#OneHotEncoder to convert categorical features into one-hot encoded vectors\n",
    "\n",
    "categorical_transformer = OneHotEncoder(drop=\"if_binary\")\n",
    "\n",
    "\n",
    "preprocessor_minmax = ColumnTransformer(\n",
    "    transformers=[\n",
    "        (\"num\", numeric_transformer, numerical_features),\n",
    "        (\"cat\", categorical_transformer, categorical_features)\n",
    "    ])"
   ]
  },
  {
   "cell_type": "code",
   "execution_count": 145,
   "metadata": {},
   "outputs": [],
   "source": [
    "Baseline_model= Pipeline([(\"preprocessor\", preprocessor_minmax), ('Baseline',MultinomialNB())])\n"
   ]
  },
  {
   "cell_type": "code",
   "execution_count": 146,
   "metadata": {},
   "outputs": [
    {
     "name": "stdout",
     "output_type": "stream",
     "text": [
      "0.05245399475097656\n"
     ]
    }
   ],
   "source": [
    "Baseline_start_time= time.time()\n",
    "Baseline_model.fit(X_train, y_train)\n",
    "Baseline_end_time= time.time()\n",
    "Baseline_train_time = Baseline_end_time-Baseline_start_time\n",
    "print(Baseline_train_time)"
   ]
  },
  {
   "cell_type": "markdown",
   "metadata": {},
   "source": [
    "Calculate accurancy of the Baseline Model"
   ]
  },
  {
   "cell_type": "code",
   "execution_count": 148,
   "metadata": {},
   "outputs": [
    {
     "name": "stdout",
     "output_type": "stream",
     "text": [
      "Baseline Model Training Accuracy: 88.74%\n",
      "Baseline Model Test Accuracy: 88.68%\n",
      "Test Set Classification Report:\n",
      "              precision    recall  f1-score   support\n",
      "\n",
      "           0       0.89      1.00      0.94     10961\n",
      "           1       0.12      0.00      0.00      1392\n",
      "\n",
      "    accuracy                           0.89     12353\n",
      "   macro avg       0.51      0.50      0.47     12353\n",
      "weighted avg       0.80      0.89      0.83     12353\n",
      "\n"
     ]
    }
   ],
   "source": [
    "# Make predictions on the training data\n",
    "y_train_pred_baseline = Baseline_model.predict(X_train)\n",
    "\n",
    "# Calculate training accuracy\n",
    "accuracy_train_baseline = accuracy_score(y_train, y_train_pred_baseline)\n",
    "print(f'Baseline Model Training Accuracy: {accuracy_train_baseline:.2%}')\n",
    "\n",
    "# Make predictions on the test data\n",
    "y_test_pred_baseline = Baseline_model.predict(X_test)\n",
    "\n",
    "# Calculate test accuracy\n",
    "accuracy_test_baseline = accuracy_score(y_test, y_test_pred_baseline)\n",
    "print(f'Baseline Model Test Accuracy: {accuracy_test_baseline:.2%}')\n",
    "\n",
    "# Additional evaluation metrics for the test set\n",
    "print(\"Test Set Classification Report:\")\n",
    "print(classification_report(y_test, y_test_pred_baseline))"
   ]
  },
  {
   "cell_type": "markdown",
   "metadata": {},
   "source": [
    "### Problem 8: A Simple Model\n",
    "\n",
    "Use Logistic Regression to build a basic model on your data.  "
   ]
  },
  {
   "cell_type": "code",
   "execution_count": 149,
   "metadata": {},
   "outputs": [],
   "source": [
    "from sklearn.linear_model import LogisticRegression\n",
    "\n",
    "logistic_regression_model = Pipeline([\n",
    "    (\"preprocessor\", preprocessor_minmax),\n",
    "    ('LogisticRegression', LogisticRegression(max_iter=1000,random_state=42))\n",
    "])\n"
   ]
  },
  {
   "cell_type": "code",
   "execution_count": 150,
   "metadata": {},
   "outputs": [
    {
     "name": "stdout",
     "output_type": "stream",
     "text": [
      "0.23817706108093262\n"
     ]
    }
   ],
   "source": [
    "logistic_start_time=time.time()\n",
    "logistic_regression_model.fit(X_train, y_train)\n",
    "logistic_end_time=time.time()\n",
    "logistic_train_time = logistic_end_time-logistic_start_time\n",
    "print(logistic_train_time)"
   ]
  },
  {
   "cell_type": "markdown",
   "metadata": {},
   "source": [
    "### Problem 9: Score the Model\n",
    "\n",
    "What is the accuracy of your model?"
   ]
  },
  {
   "cell_type": "code",
   "execution_count": 151,
   "metadata": {},
   "outputs": [
    {
     "name": "stdout",
     "output_type": "stream",
     "text": [
      "Training Accuracy: 88.73%\n",
      "Test Accuracy: 88.73%\n",
      "              precision    recall  f1-score   support\n",
      "\n",
      "           0       0.89      1.00      0.94     10961\n",
      "           1       1.00      0.00      0.00      1392\n",
      "\n",
      "    accuracy                           0.89     12353\n",
      "   macro avg       0.94      0.50      0.47     12353\n",
      "weighted avg       0.90      0.89      0.83     12353\n",
      "\n"
     ]
    }
   ],
   "source": [
    "# Make predictions on the training data\n",
    "y_train_pred = logistic_regression_model.predict(X_train)\n",
    "\n",
    "# Calculate training accuracy\n",
    "train_accuracy = accuracy_score(y_train, y_train_pred)\n",
    "print(f'Training Accuracy: {train_accuracy:.2%}')\n",
    "\n",
    "# Make predictions on the test data\n",
    "y_test_pred = logistic_regression_model.predict(X_test)\n",
    "\n",
    "# Calculate test accuracy\n",
    "test_accuracy = accuracy_score(y_test, y_test_pred)\n",
    "print(f'Test Accuracy: {test_accuracy:.2%}')\n",
    "\n",
    "print(classification_report(y_test, y_test_pred, zero_division=1))"
   ]
  },
  {
   "cell_type": "markdown",
   "metadata": {},
   "source": [
    "### Problem 10: Model Comparisons\n",
    "\n",
    "Now, we aim to compare the performance of the Logistic Regression model to our KNN algorithm, Decision Tree, and SVM models.  Using the default settings for each of the models, fit and score each.  Also, be sure to compare the fit time of each of the models.  Present your findings in a `DataFrame` similar to that below:\n",
    "\n",
    "| Model | Train Time | Train Accuracy | Test Accuracy |\n",
    "| ----- | ---------- | -------------  | -----------   |\n",
    "|     |    |.     |.     |"
   ]
  },
  {
   "cell_type": "markdown",
   "metadata": {},
   "source": [
    "K Nearest Neighbour"
   ]
  },
  {
   "cell_type": "code",
   "execution_count": 153,
   "metadata": {},
   "outputs": [
    {
     "name": "stdout",
     "output_type": "stream",
     "text": [
      "0.07955312728881836\n",
      "KNN Model Training Accuracy: 89.31%\n",
      "KNN Model Test Accuracy: 87.61%\n",
      "Test Set Classification Report:\n",
      "              precision    recall  f1-score   support\n",
      "\n",
      "           0       0.89      0.98      0.93     10961\n",
      "           1       0.26      0.06      0.09      1392\n",
      "\n",
      "    accuracy                           0.88     12353\n",
      "   macro avg       0.58      0.52      0.51     12353\n",
      "weighted avg       0.82      0.88      0.84     12353\n",
      "\n"
     ]
    }
   ],
   "source": [
    "from sklearn.neighbors import KNeighborsClassifier\n",
    "\n",
    "\n",
    "# Standardize numerical features using StandardScaler\n",
    "knn_model = KNeighborsClassifier(n_neighbors=5)\n",
    "pipeline = Pipeline([\n",
    "    (\"preprocessor\", preprocessor_minmax),\n",
    "    (\"KNN\", knn_model)\n",
    "])\n",
    "\n",
    "# Train the KNN model\n",
    "knn_start_time= time.time()\n",
    "pipeline.fit(X_train, y_train)\n",
    "knn_end_time=time.time()\n",
    "knn_train_time=knn_end_time-knn_start_time\n",
    "\n",
    "print(knn_train_time)\n",
    "\n",
    "# Make predictions on the training data\n",
    "y_train_pred_knn = pipeline.predict(X_train)\n",
    "\n",
    "# Calculate training accuracy\n",
    "accuracy_train_knn = accuracy_score(y_train, y_train_pred_knn)\n",
    "print(f'KNN Model Training Accuracy: {accuracy_train_knn:.2%}')\n",
    "\n",
    "# Make predictions on the test data\n",
    "y_test_pred_knn = pipeline.predict(X_test)\n",
    "\n",
    "# Calculate and print the test accuracy\n",
    "accuracy_test_knn = accuracy_score(y_test, y_test_pred_knn)\n",
    "print(f'KNN Model Test Accuracy: {accuracy_test_knn:.2%}')\n",
    "\n",
    "# Additional evaluation metrics for the test set\n",
    "print(\"Test Set Classification Report:\")\n",
    "print(classification_report(y_test, y_test_pred_knn))\n"
   ]
  },
  {
   "cell_type": "markdown",
   "metadata": {},
   "source": [
    "Decision Tree Classifier"
   ]
  },
  {
   "cell_type": "code",
   "execution_count": 154,
   "metadata": {},
   "outputs": [],
   "source": [
    "categorical_features = ['job', 'marital', 'education', 'default', 'housing', 'loan']\n",
    "\n",
    "\n",
    "#OneHotEncoder to convert categorical features into one-hot encoded vectors\n",
    "\n",
    "categorical_transformer = OneHotEncoder(drop=\"if_binary\")\n",
    "\n",
    "\n",
    "preprocessor = ColumnTransformer(\n",
    "    transformers=[\n",
    "        (\"cat\", categorical_transformer, categorical_features)\n",
    "    ])"
   ]
  },
  {
   "cell_type": "code",
   "execution_count": 155,
   "metadata": {},
   "outputs": [
    {
     "name": "stdout",
     "output_type": "stream",
     "text": [
      "Decision Tree train time: 0.18940997123718262\n",
      "Decision Tree Model Training Accuracy: 88.98%\n",
      "Decision Tree Model Test Accuracy: 88.44%\n",
      "              precision    recall  f1-score   support\n",
      "\n",
      "           0       0.89      1.00      0.94     10961\n",
      "           1       0.23      0.01      0.02      1392\n",
      "\n",
      "    accuracy                           0.88     12353\n",
      "   macro avg       0.56      0.50      0.48     12353\n",
      "weighted avg       0.81      0.88      0.84     12353\n",
      "\n"
     ]
    }
   ],
   "source": [
    "from sklearn.tree import DecisionTreeClassifier\n",
    "\n",
    "# Create a pipeline with preprocessing and Decision Tree model\n",
    "decision_tree_model = DecisionTreeClassifier(random_state=42)\n",
    "pipeline = Pipeline([\n",
    "    (\"preprocessor\", preprocessor),\n",
    "    (\"DecisionTree\", decision_tree_model)\n",
    "])\n",
    "\n",
    "# Train the Decision Tree model\n",
    "\n",
    "decision_tree_start_time = time.time()\n",
    "pipeline.fit(X_train, y_train)\n",
    "decision_tree_end_time = time.time()\n",
    "decision_tree_train_time = decision_tree_end_time - decision_tree_start_time\n",
    "\n",
    "print(f'Decision Tree train time: {decision_tree_train_time}')\n",
    "\n",
    "# Make predictions on the training data\n",
    "y_train_pred_decision_tree = pipeline.predict(X_train)\n",
    "\n",
    "# Calculate and print the training accuracy\n",
    "accuracy_train_decision_tree = accuracy_score(y_train, y_train_pred_decision_tree)\n",
    "print(f'Decision Tree Model Training Accuracy: {accuracy_train_decision_tree:.2%}')\n",
    "\n",
    "# Make predictions on the test data\n",
    "y_pred_decision_tree = pipeline.predict(X_test)\n",
    "\n",
    "# Calculate and print the test accuracy\n",
    "accuracy_test_decision_tree = accuracy_score(y_test, y_pred_decision_tree)\n",
    "print(f'Decision Tree Model Test Accuracy: {accuracy_test_decision_tree:.2%}')\n",
    "\n",
    "print(classification_report(y_test, y_pred_decision_tree))"
   ]
  },
  {
   "cell_type": "markdown",
   "metadata": {},
   "source": [
    "Support Vector Machine"
   ]
  },
  {
   "cell_type": "code",
   "execution_count": 156,
   "metadata": {},
   "outputs": [
    {
     "name": "stdout",
     "output_type": "stream",
     "text": [
      "SVM Default Model Training Accuracy: 88.73%\n",
      "SVM Default Model Test Accuracy: 88.73%\n",
      "Test Set Classification Report:\n",
      "              precision    recall  f1-score   support\n",
      "\n",
      "           0       0.89      1.00      0.94     10961\n",
      "           1       1.00      0.00      0.00      1392\n",
      "\n",
      "    accuracy                           0.89     12353\n",
      "   macro avg       0.94      0.50      0.47     12353\n",
      "weighted avg       0.90      0.89      0.83     12353\n",
      "\n",
      "Training Time: 53.1873 seconds\n"
     ]
    }
   ],
   "source": [
    "from sklearn.svm import SVC\n",
    "\n",
    "SVM_default= Pipeline(\n",
    "    steps=[(\"preprocessor\", preprocessor_minmax), ('SVC',SVC(probability=True))]\n",
    ")\n",
    "\n",
    "# Train the SVM_default model and measure the time\n",
    "start_time = time.time()\n",
    "SVM_default.fit(X_train, y_train)\n",
    "end_time = time.time()\n",
    "train_time = end_time - start_time\n",
    "\n",
    "# Make predictions on the training data\n",
    "y_train_pred_svm_default = SVM_default.predict(X_train)\n",
    "\n",
    "# Calculate and print the training accuracy\n",
    "train_accuracy_svm_default = accuracy_score(y_train, y_train_pred_svm_default)\n",
    "print(f'SVM Default Model Training Accuracy: {train_accuracy_svm_default:.2%}')\n",
    "\n",
    "# Make predictions on the test data\n",
    "y_test_pred_svm_default = SVM_default.predict(X_test)\n",
    "\n",
    "# Calculate and print the test accuracy\n",
    "test_accuracy_svm_default = accuracy_score(y_test, y_test_pred_svm_default)\n",
    "print(f'SVM Default Model Test Accuracy: {test_accuracy_svm_default:.2%}')\n",
    "\n",
    "# Additional evaluation metrics for the test set\n",
    "print(\"Test Set Classification Report:\")\n",
    "print(classification_report(y_test, y_test_pred_svm_default, zero_division=1))\n",
    "\n",
    "# Print the training time\n",
    "print(f'Training Time: {train_time:.4f} seconds')\n"
   ]
  },
  {
   "cell_type": "code",
   "execution_count": 157,
   "metadata": {},
   "outputs": [],
   "source": [
    "results_df = pd.DataFrame({\n",
    "    'Model': ['Naive Bayes' ,'Logistic Regression', 'K Nearest Neighbour', 'Decision Tree', 'Support Vector Machine'],\n",
    "    'Train Time': [Baseline_train_time, logistic_train_time, knn_train_time, decision_tree_train_time, train_time],\n",
    "    'Train Accuracy': [accuracy_train_baseline, train_accuracy, accuracy_train_knn, accuracy_train_decision_tree, train_accuracy_svm_default],\n",
    "    'Test Accuracy': [accuracy_test_baseline, test_accuracy, accuracy_test_knn, accuracy_test_decision_tree, test_accuracy_svm_default]\n",
    "})"
   ]
  },
  {
   "cell_type": "code",
   "execution_count": 158,
   "metadata": {},
   "outputs": [
    {
     "name": "stdout",
     "output_type": "stream",
     "text": [
      "                    Model  Train Time  Train Accuracy  Test Accuracy\n",
      "0             Naive Bayes    0.052454        0.887382       0.886829\n",
      "1     Logistic Regression    0.238177        0.887347       0.887315\n",
      "2     K Nearest Neighbour    0.079553        0.893141       0.876062\n",
      "3           Decision Tree    0.189410        0.889776       0.884401\n",
      "4  Support Vector Machine   53.187300        0.887347       0.887315\n"
     ]
    }
   ],
   "source": [
    "print(results_df)"
   ]
  },
  {
   "cell_type": "markdown",
   "metadata": {},
   "source": [
    "### Problem 11: Improving the Model\n",
    "\n",
    "Now that we have some basic models on the board, we want to try to improve these.  Below, we list a few things to explore in this pursuit.\n",
    "\n",
    "- More feature engineering and exploration.  For example, should we keep the gender feature?  Why or why not?\n",
    "- Hyperparameter tuning and grid search.  All of our models have additional hyperparameters to tune and explore.  For example the number of neighbors in KNN or the maximum depth of a Decision Tree.  \n",
    "- Adjust your performance metric"
   ]
  },
  {
   "cell_type": "code",
   "execution_count": null,
   "metadata": {},
   "outputs": [],
   "source": []
  },
  {
   "cell_type": "code",
   "execution_count": null,
   "metadata": {},
   "outputs": [],
   "source": []
  },
  {
   "cell_type": "code",
   "execution_count": null,
   "metadata": {},
   "outputs": [],
   "source": []
  },
  {
   "cell_type": "code",
   "execution_count": null,
   "metadata": {},
   "outputs": [],
   "source": []
  },
  {
   "cell_type": "code",
   "execution_count": null,
   "metadata": {},
   "outputs": [],
   "source": []
  },
  {
   "cell_type": "code",
   "execution_count": null,
   "metadata": {},
   "outputs": [],
   "source": []
  },
  {
   "cell_type": "code",
   "execution_count": null,
   "metadata": {},
   "outputs": [],
   "source": []
  },
  {
   "cell_type": "code",
   "execution_count": null,
   "metadata": {},
   "outputs": [],
   "source": []
  },
  {
   "cell_type": "code",
   "execution_count": null,
   "metadata": {},
   "outputs": [],
   "source": []
  },
  {
   "cell_type": "code",
   "execution_count": null,
   "metadata": {},
   "outputs": [],
   "source": []
  },
  {
   "cell_type": "code",
   "execution_count": null,
   "metadata": {},
   "outputs": [],
   "source": []
  },
  {
   "cell_type": "markdown",
   "metadata": {},
   "source": [
    "##### Questions"
   ]
  }
 ],
 "metadata": {
  "kernelspec": {
   "display_name": "Python 3 (ipykernel)",
   "language": "python",
   "name": "python3"
  },
  "language_info": {
   "codemirror_mode": {
    "name": "ipython",
    "version": 3
   },
   "file_extension": ".py",
   "mimetype": "text/x-python",
   "name": "python",
   "nbconvert_exporter": "python",
   "pygments_lexer": "ipython3",
   "version": "3.10.9"
  },
  "widgets": {
   "application/vnd.jupyter.widget-state+json": {
    "state": {},
    "version_major": 2,
    "version_minor": 0
   }
  }
 },
 "nbformat": 4,
 "nbformat_minor": 4
}
